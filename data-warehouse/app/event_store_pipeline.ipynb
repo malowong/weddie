{
 "cells": [
  {
   "cell_type": "code",
   "execution_count": 1,
   "metadata": {},
   "outputs": [
    {
     "name": "stdout",
     "output_type": "stream",
     "text": [
      "Requirement already satisfied: pyspark in /opt/bitnami/python/lib/python3.8/site-packages (3.2.0)\n",
      "Requirement already satisfied: py4j==0.10.9.2 in /opt/bitnami/python/lib/python3.8/site-packages (from pyspark) (0.10.9.2)\n",
      "\u001b[33mWARNING: Running pip as the 'root' user can result in broken permissions and conflicting behaviour with the system package manager. It is recommended to use a virtual environment instead: https://pip.pypa.io/warnings/venv\u001b[0m\n"
     ]
    }
   ],
   "source": [
    "! pip install pyspark"
   ]
  },
  {
   "cell_type": "code",
   "execution_count": null,
   "metadata": {},
   "outputs": [],
   "source": [
    "from pyspark.sql import SparkSession\n",
    "\n",
    "packages = [\n",
    "    \"org.apache.hadoop:hadoop-aws:3.2.0\",\n",
    "    \"org.apache.spark:spark-avro_2.12:2.4.4\",\n",
    "    \"org.mongodb.spark:mongo-spark-connector_2.12:3.0.1\",\n",
    "    \"org.postgresql:postgresql:42.2.18\"\n",
    "\n",
    "]\n",
    "\n",
    "spark = SparkSession.builder.appName(\"extract data from event_store\")\\\n",
    "    .master('spark://172.1.0.2:7077')\\\n",
    "    .config(\"spark.jars.packages\", \",\".join(packages))\\\n",
    "    .getOrCreate()\n",
    "\n",
    "spark"
   ]
  },
  {
   "cell_type": "code",
   "execution_count": null,
   "metadata": {},
   "outputs": [],
   "source": [
    "df_event_store = spark.read.format('mongo').option('spark.mongodb.input.uri','mongodb://172.1.0.10:27017/event_store.event_store').option(\"encoding\",\"UTF-8\").load()"
   ]
  },
  {
   "cell_type": "code",
   "execution_count": null,
   "metadata": {},
   "outputs": [],
   "source": [
    "df_event_store.printSchema()"
   ]
  },
  {
   "cell_type": "code",
   "execution_count": null,
   "metadata": {},
   "outputs": [],
   "source": [
    "import pyspark.sql.functions as F \n",
    "df_event_store= df_event_store.withColumn(\"wedding_minus_amend\",(df_event_store[\"weddingDate\"]-df_event_store[\"amendDate\"]) )\n",
    "df_event_store= df_event_store.withColumn(\"wedding_minus_created\",(df_event_store[\"weddingDate\"]-df_event_store[\"weddingCreatedAtDate\"]))\n",
    "df_event_store= df_event_store.withColumn(\"amend_minus_created\",(df_event_store[\"amendDate\"]-df_event_store[\"weddingCreatedAtDate\"]))\n",
    "df_event_store= df_event_store.withColumn(\"score_per_record\",F.when(df_event_store.eventType == \"ADD\",F.col(\"wedding_minus_amend\")/F.col(\"wedding_minus_created\")).when(df_event_store.eventType == \"DELETE\",-(F.col(\"amend_minus_created\")/F.col(\"wedding_minus_created\"))))\n",
    "\n",
    "# Calculate avg score of each record\n",
    "avg_score_df= df_event_store.groupBy(\"data.budget_description_id\").mean(\"score_per_record\").withColumnRenamed(\"avg(score_per_record)\",\"avg_score\")\n",
    "\n"
   ]
  },
  {
   "cell_type": "code",
   "execution_count": null,
   "metadata": {},
   "outputs": [],
   "source": [
    "num_of_unique_wedding_id = df_event_store.select(\"data.wedding_event_id\").distinct().count()\n",
    "df_event_store= df_event_store.withColumn(\"exp_per_record\",F.when(df_event_store.eventType == \"ADD\",F.col(\"data.expenditure\")).when(df_event_store.eventType == \"DELETE\",-F.col(\"data.expenditure\")))\n",
    "df_exp = df_event_store.groupBy(\"data.budget_description_id\").sum(\"exp_per_record\").withColumnRenamed(\"sum(exp_per_record)\",\"total_exp\")\n",
    "# Calculate avg expenditure of each description\n",
    "df_exp=df_exp.withColumn(\"avg_exp\",F.col(\"total_exp\")/num_of_unique_wedding_id)"
   ]
  },
  {
   "cell_type": "code",
   "execution_count": null,
   "metadata": {},
   "outputs": [],
   "source": [
    "final_df=avg_score_df.join(df_exp,[\"budget_description_id\"])"
   ]
  },
  {
   "cell_type": "code",
   "execution_count": null,
   "metadata": {},
   "outputs": [],
   "source": [
    "tmp_df=df_event_store.groupBy(\"data.description\",\"data.budget_cat_id\",\"data.budget_description_id\").count()"
   ]
  },
  {
   "cell_type": "code",
   "execution_count": null,
   "metadata": {},
   "outputs": [],
   "source": [
    "final_df=final_df.join(tmp_df,[\"budget_description_id\"])\n",
    "final_df"
   ]
  },
  {
   "cell_type": "code",
   "execution_count": null,
   "metadata": {},
   "outputs": [],
   "source": [
    "final_df = final_df.select(\"budget_description_id\",\"avg_score\",\"avg_exp\",\"description\",\"budget_cat_id\")\n",
    "final_df.show()"
   ]
  },
  {
   "cell_type": "code",
   "execution_count": null,
   "metadata": {},
   "outputs": [],
   "source": [
    "RDS_DB=\"wedding\"\n",
    "RDS_USERNAME=\"postgres\"\n",
    "RDS_PASSWORD=\"postgres\"\n",
    "RDS_HOST=\"final-project-data-warehouse.cit8sojr7959.ap-southeast-1.rds.amazonaws.com\"\n",
    "final_df.write.format('jdbc')\\\n",
    "    .option('url', \"jdbc:postgresql://{}/{}\".format(RDS_HOST, RDS_DB))\\\n",
    "    .option('dbtable', 'event_store_budget_planning')\\\n",
    "    .option('user', RDS_USERNAME)\\\n",
    "    .option('password', RDS_PASSWORD)\\\n",
    "    .option('driver', 'org.postgresql.Driver')\\\n",
    "    .mode('append')\\\n",
    "    .save()"
   ]
  },
  {
   "cell_type": "code",
   "execution_count": null,
   "metadata": {},
   "outputs": [],
   "source": []
  }
 ],
 "metadata": {
  "interpreter": {
   "hash": "573f8c4297b1e807d4e4d51bc4704711e08f3eef39a212b98b763079568da1b1"
  },
  "kernelspec": {
   "display_name": "Python 3.8.12 64-bit",
   "language": "python",
   "name": "python3"
  },
  "language_info": {
   "codemirror_mode": {
    "name": "ipython",
    "version": 3
   },
   "file_extension": ".py",
   "mimetype": "text/x-python",
   "name": "python",
   "nbconvert_exporter": "python",
   "pygments_lexer": "ipython3",
   "version": "3.8.12"
  },
  "orig_nbformat": 4
 },
 "nbformat": 4,
 "nbformat_minor": 2
}
