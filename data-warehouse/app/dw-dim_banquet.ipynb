{
 "cells": [
  {
   "cell_type": "code",
   "execution_count": 1,
   "id": "f53f88a9",
   "metadata": {},
   "outputs": [
    {
     "name": "stdout",
     "output_type": "stream",
     "text": [
      "Requirement already satisfied: pyspark in /usr/local/spark-3.2.0-bin-hadoop3.2/python (3.2.0)\r\n",
      "Requirement already satisfied: py4j==0.10.9.2 in /opt/conda/lib/python3.9/site-packages (from pyspark) (0.10.9.2)\r\n"
     ]
    }
   ],
   "source": [
    "! pip install pyspark"
   ]
  },
  {
   "cell_type": "code",
   "execution_count": 18,
   "id": "ead82deb",
   "metadata": {},
   "outputs": [
    {
     "data": {
      "text/html": [
       "\n",
       "            <div>\n",
       "                <p><b>SparkSession - in-memory</b></p>\n",
       "                \n",
       "        <div>\n",
       "            <p><b>SparkContext</b></p>\n",
       "\n",
       "            <p><a href=\"http://699066cd289e:4040\">Spark UI</a></p>\n",
       "\n",
       "            <dl>\n",
       "              <dt>Version</dt>\n",
       "                <dd><code>v3.2.0</code></dd>\n",
       "              <dt>Master</dt>\n",
       "                <dd><code>spark://172.1.0.2:7077</code></dd>\n",
       "              <dt>AppName</dt>\n",
       "                <dd><code>connect to RDS dw</code></dd>\n",
       "            </dl>\n",
       "        </div>\n",
       "        \n",
       "            </div>\n",
       "        "
      ],
      "text/plain": [
       "<pyspark.sql.session.SparkSession at 0x7f13b45782e0>"
      ]
     },
     "execution_count": 18,
     "metadata": {},
     "output_type": "execute_result"
    }
   ],
   "source": [
    "from pyspark.sql import SparkSession\n",
    "\n",
    "packages = [\n",
    "    \"com.amazonaws:aws-java-sdk-s3:1.12.95\",\n",
    "    \"org.apache.hadoop:hadoop-aws:3.2.0\",\n",
    "    \"org.apache.spark:spark-avro_2.12:2.4.4\",\n",
    "    \"org.mongodb.spark:mongo-spark-connector_2.12:3.0.1\",\n",
    "    \"org.postgresql:postgresql:42.2.18\"\n",
    "\n",
    "]\n",
    "\n",
    "spark = SparkSession.builder.appName(\"connect to RDS dw\")\\\n",
    "    .master('spark://172.1.0.2:7077')\\\n",
    "    .config(\"spark.jars.packages\", \",\".join(packages))\\\n",
    "    .getOrCreate()\n",
    "\n",
    "spark"
   ]
  },
  {
   "cell_type": "code",
   "execution_count": 25,
   "id": "c45b799b",
   "metadata": {},
   "outputs": [],
   "source": [
    "\n",
    "df_hotel_info = spark.read.format('mongo').option('spark.mongodb.input.uri','mongodb://172.1.0.10:27017/wevow_scrape.hotel_info').option(\"encoding\",\"UTF-8\").load()\n",
    "df_hotel_info=df_hotel_info.selectExpr(\"name\",\"district\",\"category\",\"cast(max_pax as int) max_pax\",\"min_charge\")\n",
    "df_others_info = spark.read.format('mongo').option('spark.mongodb.input.uri','mongodb://172.1.0.10:27017/wevow_scrape.others_info').option(\"encoding\",\"UTF-8\").load()\n",
    "df_others_info=df_others_info.selectExpr(\"name\",\"district\",\"category\",\"cast(max_pax as int) max_pax\",\"min_charge\")\n",
    "df_club_info = spark.read.format('mongo').option('spark.mongodb.input.uri','mongodb://172.1.0.10:27017/wevow_scrape.club_info').option(\"encoding\",\"UTF-8\").load()\n",
    "df_club_info=df_club_info.selectExpr(\"name\",\"district\",\"category\",\"cast(max_pax as int) max_pax\",\"min_charge\")\n",
    "df_restaurant_info = spark.read.format('mongo').option('spark.mongodb.input.uri','mongodb://172.1.0.10:27017/wevow_scrape.restaurant_info').option(\"encoding\",\"UTF-8\").load()\n",
    "df_restaurant_info=df_restaurant_info.selectExpr(\"name\",\"district\",\"category\",\"cast(max_pax as int) max_pax\",\"min_charge\")"
   ]
  },
  {
   "cell_type": "code",
   "execution_count": 26,
   "id": "a9b09faf",
   "metadata": {
    "scrolled": true
   },
   "outputs": [
    {
     "name": "stderr",
     "output_type": "stream",
     "text": [
      "                                                                                \r"
     ]
    }
   ],
   "source": [
    "RDS_DB=\"wedding\"\n",
    "RDS_USERNAME=\"postgres\"\n",
    "RDS_PASSWORD=\"postgres\"\n",
    "RDS_HOST=\"final-project-data-warehouse.cit8sojr7959.ap-southeast-1.rds.amazonaws.com\"\n",
    "df_club_info.write.format('jdbc')\\\n",
    "    .option('url', \"jdbc:postgresql://{}/{}\".format(RDS_HOST, RDS_DB))\\\n",
    "    .option('dbtable', 'dim_banquet')\\\n",
    "    .option('user', RDS_USERNAME)\\\n",
    "    .option('password', RDS_PASSWORD)\\\n",
    "    .option('driver', 'org.postgresql.Driver')\\\n",
    "    .mode('append')\\\n",
    "    .save()\n",
    "\n",
    "df_restaurant_info.write.format('jdbc')\\\n",
    "    .option('url', \"jdbc:postgresql://{}/{}\".format(RDS_HOST, RDS_DB))\\\n",
    "    .option('dbtable', 'dim_banquet')\\\n",
    "    .option('user', RDS_USERNAME)\\\n",
    "    .option('password', RDS_PASSWORD)\\\n",
    "    .option('driver', 'org.postgresql.Driver')\\\n",
    "    .mode('append')\\\n",
    "    .save()\n",
    "\n",
    "df_hotel_info.write.format('jdbc')\\\n",
    "    .option('url', \"jdbc:postgresql://{}/{}\".format(RDS_HOST, RDS_DB))\\\n",
    "    .option('dbtable', 'dim_banquet')\\\n",
    "    .option('user', RDS_USERNAME)\\\n",
    "    .option('password', RDS_PASSWORD)\\\n",
    "    .option('driver', 'org.postgresql.Driver')\\\n",
    "    .mode('append')\\\n",
    "    .save()\n",
    "\n",
    "df_others_info.write.format('jdbc')\\\n",
    "    .option('url', \"jdbc:postgresql://{}/{}\".format(RDS_HOST, RDS_DB))\\\n",
    "    .option('dbtable', 'dim_banquet')\\\n",
    "    .option('user', RDS_USERNAME)\\\n",
    "    .option('password', RDS_PASSWORD)\\\n",
    "    .option('driver', 'org.postgresql.Driver')\\\n",
    "    .mode('append')\\\n",
    "    .save()"
   ]
  },
  {
   "cell_type": "code",
   "execution_count": null,
   "id": "66b5d5fa",
   "metadata": {},
   "outputs": [],
   "source": []
  },
  {
   "cell_type": "code",
   "execution_count": null,
   "id": "858c54d4",
   "metadata": {},
   "outputs": [],
   "source": []
  }
 ],
 "metadata": {
  "kernelspec": {
   "display_name": "Python 3 (ipykernel)",
   "language": "python",
   "name": "python3"
  },
  "language_info": {
   "codemirror_mode": {
    "name": "ipython",
    "version": 3
   },
   "file_extension": ".py",
   "mimetype": "text/x-python",
   "name": "python",
   "nbconvert_exporter": "python",
   "pygments_lexer": "ipython3",
   "version": "3.9.7"
  }
 },
 "nbformat": 4,
 "nbformat_minor": 5
}
