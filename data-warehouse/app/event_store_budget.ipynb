{
 "cells": [
  {
   "cell_type": "code",
   "execution_count": 1,
   "metadata": {},
   "outputs": [
    {
     "name": "stdout",
     "output_type": "stream",
     "text": [
      "Requirement already satisfied: pyspark in /opt/bitnami/python/lib/python3.8/site-packages (3.2.0)\n",
      "Requirement already satisfied: py4j==0.10.9.2 in /opt/bitnami/python/lib/python3.8/site-packages (from pyspark) (0.10.9.2)\n",
      "\u001b[33mWARNING: Running pip as the 'root' user can result in broken permissions and conflicting behaviour with the system package manager. It is recommended to use a virtual environment instead: https://pip.pypa.io/warnings/venv\u001b[0m\n"
     ]
    }
   ],
   "source": [
    "! pip install pyspark"
   ]
  },
  {
   "cell_type": "code",
   "execution_count": 2,
   "metadata": {},
   "outputs": [
    {
     "name": "stdout",
     "output_type": "stream",
     "text": [
      ":: loading settings :: url = jar:file:/opt/bitnami/spark/jars/ivy-2.5.0.jar!/org/apache/ivy/core/settings/ivysettings.xml\n"
     ]
    },
    {
     "name": "stderr",
     "output_type": "stream",
     "text": [
      "Ivy Default Cache set to: /root/.ivy2/cache\n",
      "The jars for the packages stored in: /root/.ivy2/jars\n",
      "org.apache.hadoop#hadoop-aws added as a dependency\n",
      "org.apache.spark#spark-avro_2.12 added as a dependency\n",
      "org.mongodb.spark#mongo-spark-connector_2.12 added as a dependency\n",
      "org.postgresql#postgresql added as a dependency\n",
      ":: resolving dependencies :: org.apache.spark#spark-submit-parent-4f4c5405-7cd8-4e54-b549-014fd76a2f7f;1.0\n",
      "\tconfs: [default]\n",
      "\tfound org.apache.hadoop#hadoop-aws;3.2.0 in central\n",
      "\tfound com.amazonaws#aws-java-sdk-bundle;1.11.375 in central\n",
      "\tfound org.apache.spark#spark-avro_2.12;2.4.4 in central\n",
      "\tfound org.spark-project.spark#unused;1.0.0 in central\n",
      "\tfound org.mongodb.spark#mongo-spark-connector_2.12;3.0.1 in central\n",
      "\tfound org.mongodb#mongodb-driver-sync;4.0.5 in central\n",
      "\tfound org.mongodb#bson;4.0.5 in central\n",
      "\tfound org.mongodb#mongodb-driver-core;4.0.5 in central\n",
      "\tfound org.postgresql#postgresql;42.2.18 in central\n",
      "\tfound org.checkerframework#checker-qual;3.5.0 in central\n",
      ":: resolution report :: resolve 535ms :: artifacts dl 27ms\n",
      "\t:: modules in use:\n",
      "\tcom.amazonaws#aws-java-sdk-bundle;1.11.375 from central in [default]\n",
      "\torg.apache.hadoop#hadoop-aws;3.2.0 from central in [default]\n",
      "\torg.apache.spark#spark-avro_2.12;2.4.4 from central in [default]\n",
      "\torg.checkerframework#checker-qual;3.5.0 from central in [default]\n",
      "\torg.mongodb#bson;4.0.5 from central in [default]\n",
      "\torg.mongodb#mongodb-driver-core;4.0.5 from central in [default]\n",
      "\torg.mongodb#mongodb-driver-sync;4.0.5 from central in [default]\n",
      "\torg.mongodb.spark#mongo-spark-connector_2.12;3.0.1 from central in [default]\n",
      "\torg.postgresql#postgresql;42.2.18 from central in [default]\n",
      "\torg.spark-project.spark#unused;1.0.0 from central in [default]\n",
      "\t---------------------------------------------------------------------\n",
      "\t|                  |            modules            ||   artifacts   |\n",
      "\t|       conf       | number| search|dwnlded|evicted|| number|dwnlded|\n",
      "\t---------------------------------------------------------------------\n",
      "\t|      default     |   10  |   0   |   0   |   0   ||   10  |   0   |\n",
      "\t---------------------------------------------------------------------\n",
      ":: retrieving :: org.apache.spark#spark-submit-parent-4f4c5405-7cd8-4e54-b549-014fd76a2f7f\n",
      "\tconfs: [default]\n",
      "\t0 artifacts copied, 10 already retrieved (0kB/11ms)\n",
      "22/01/10 09:15:34 WARN NativeCodeLoader: Unable to load native-hadoop library for your platform... using builtin-java classes where applicable\n",
      "Using Spark's default log4j profile: org/apache/spark/log4j-defaults.properties\n",
      "Setting default log level to \"WARN\".\n",
      "To adjust logging level use sc.setLogLevel(newLevel). For SparkR, use setLogLevel(newLevel).\n"
     ]
    },
    {
     "data": {
      "text/html": [
       "\n",
       "            <div>\n",
       "                <p><b>SparkSession - in-memory</b></p>\n",
       "                \n",
       "        <div>\n",
       "            <p><b>SparkContext</b></p>\n",
       "\n",
       "            <p><a href=\"http://4b8f4e372e4a:4040\">Spark UI</a></p>\n",
       "\n",
       "            <dl>\n",
       "              <dt>Version</dt>\n",
       "                <dd><code>v3.2.0</code></dd>\n",
       "              <dt>Master</dt>\n",
       "                <dd><code>spark://172.1.0.2:7077</code></dd>\n",
       "              <dt>AppName</dt>\n",
       "                <dd><code>extract data from event_store</code></dd>\n",
       "            </dl>\n",
       "        </div>\n",
       "        \n",
       "            </div>\n",
       "        "
      ],
      "text/plain": [
       "<pyspark.sql.session.SparkSession at 0x7f7dc561e4c0>"
      ]
     },
     "execution_count": 2,
     "metadata": {},
     "output_type": "execute_result"
    }
   ],
   "source": [
    "from pyspark.sql import SparkSession\n",
    "\n",
    "packages = [\n",
    "    \"org.apache.hadoop:hadoop-aws:3.2.0\",\n",
    "    \"org.apache.spark:spark-avro_2.12:2.4.4\",\n",
    "    \"org.mongodb.spark:mongo-spark-connector_2.12:3.0.1\",\n",
    "    \"org.postgresql:postgresql:42.2.18\"\n",
    "\n",
    "]\n",
    "\n",
    "spark = SparkSession.builder.appName(\"extract data from event_store\")\\\n",
    "    .master('spark://172.1.0.2:7077')\\\n",
    "    .config(\"spark.jars.packages\", \",\".join(packages))\\\n",
    "    .getOrCreate()\n",
    "\n",
    "spark"
   ]
  },
  {
   "cell_type": "code",
   "execution_count": 5,
   "metadata": {},
   "outputs": [
    {
     "name": "stderr",
     "output_type": "stream",
     "text": [
      "[Stage 2:>                                                          (0 + 1) / 1]\r"
     ]
    },
    {
     "name": "stdout",
     "output_type": "stream",
     "text": [
      "+--------------------+-----------------+------------------------+---------+--------------------+------------+\n",
      "|                 _id|        amendDate|                    data|eventType|weddingCreatedAtDate| weddingDate|\n",
      "+--------------------+-----------------+------------------------+---------+--------------------+------------+\n",
      "|{61da87ad6350d75d...|1.641711532983E12|{1, 1, 1, 1, 婚紗攝影...|   DELETE|    1.64810377648E12|1.6926336E12|\n",
      "|{61da87ad6350d75d...|1.641711532983E12|{1, 1, 1, 1, 婚紗攝影...|      ADD|    1.64810377648E12|1.6926336E12|\n",
      "|{61da87ad6350d75d...|1.641711532983E12|{1, 1, 1, 2, 婚紗攝影...|   DELETE|    1.64810377648E12|1.6926336E12|\n",
      "|{61da87ad6350d75d...|1.641711532983E12|{1, 1, 1, 2, 婚紗攝影...|      ADD|    1.64810377648E12|1.6926336E12|\n",
      "|{61da87ad6350d75d...|1.641711532983E12|{1, 1, 1, 3, 婚禮當日...|   DELETE|    1.64810377648E12|1.6926336E12|\n",
      "+--------------------+-----------------+------------------------+---------+--------------------+------------+\n",
      "only showing top 5 rows\n",
      "\n"
     ]
    },
    {
     "name": "stderr",
     "output_type": "stream",
     "text": [
      "                                                                                \r"
     ]
    }
   ],
   "source": [
    "df_event_store = spark.read.format('mongo').option('spark.mongodb.input.uri','mongodb://172.1.0.10:27017/event_store.event_store').option(\"encoding\",\"UTF-8\").load()\n",
    "df_event_store.show(5)"
   ]
  },
  {
   "cell_type": "code",
   "execution_count": 6,
   "metadata": {},
   "outputs": [
    {
     "name": "stdout",
     "output_type": "stream",
     "text": [
      "+---+-----------------+------------+---+------+-----------------+---------+--------------------+--------------------+\n",
      "| id|     wedding_name|wedding_date|pax|budget|banquet_vendor_id|church_id|          created_at|          updated_at|\n",
      "+---+-----------------+------------+---+------+-----------------+---------+--------------------+--------------------+\n",
      "|  1|  vocsajrem&suceg|  2023-08-22|106|287553|              173|      182|2022-03-24 14:36:...|2022-01-09 06:57:...|\n",
      "|  2|   mifribcek&liki|  2023-05-27|109|307551|               25|      211|2022-03-22 17:34:...|2022-01-09 06:57:...|\n",
      "|  3|   wofwet&bocajos|  2023-04-13|295|294273|              173|       37|2022-03-04 08:53:...|2022-01-09 06:57:...|\n",
      "|  4|oretizuf&pukhizme|  2023-06-07|293|361174|               94|      192|2022-02-22 10:23:...|2022-01-09 06:57:...|\n",
      "|  5|        tud&polba|  2022-10-23|144|330012|              110|       68|2022-03-16 23:21:...|2022-01-09 06:57:...|\n",
      "+---+-----------------+------------+---+------+-----------------+---------+--------------------+--------------------+\n",
      "only showing top 5 rows\n",
      "\n"
     ]
    },
    {
     "name": "stderr",
     "output_type": "stream",
     "text": [
      "                                                                                \r"
     ]
    }
   ],
   "source": [
    "df_wedding_event = spark.read \\\n",
    "    .format(\"jdbc\") \\\n",
    "    .option(\"url\", \"jdbc:postgresql://172.1.0.20:5432/wedding\") \\\n",
    "    .option(\"dbtable\", \"wedding_event\") \\\n",
    "    .option(\"user\", \"postgres\") \\\n",
    "    .option(\"password\", \"postgres\") \\\n",
    "    .option(\"driver\", \"org.postgresql.Driver\") \\\n",
    "    .load()\n",
    "df_wedding_event.show(5)"
   ]
  },
  {
   "cell_type": "code",
   "execution_count": 9,
   "metadata": {},
   "outputs": [],
   "source": [
    "df_event_store_budget_lower_range = df_event_store.join(df_wedding_event,df_wedding_event.id == df_event_store.data.wedding_event_id).select(\"id\",\"amendDate\",\"data\",\"eventType\",\"weddingCreatedAtDate\",\"weddingDate\",\"budget\").where(df_wedding_event.budget <= 350000)\n",
    "\n",
    "df_event_store_budget_upper_range = df_event_store.join(df_wedding_event,df_wedding_event.id == df_event_store.data.wedding_event_id).select(\"id\",\"amendDate\",\"data\",\"eventType\",\"weddingCreatedAtDate\",\"weddingDate\",\"budget\").where(df_wedding_event.budget > 350000)"
   ]
  },
  {
   "cell_type": "code",
   "execution_count": 10,
   "metadata": {},
   "outputs": [
    {
     "name": "stdout",
     "output_type": "stream",
     "text": [
      "+---+-----------------+------------------------+---------+--------------------+------------+------+\n",
      "| id|        amendDate|                    data|eventType|weddingCreatedAtDate| weddingDate|budget|\n",
      "+---+-----------------+------------------------+---------+--------------------+------------+------+\n",
      "|  1|1.641711532983E12|{1, 1, 1, 1, 婚紗攝影...|   DELETE|    1.64810377648E12|1.6926336E12|287553|\n",
      "|  1|1.641711532983E12|{1, 1, 1, 1, 婚紗攝影...|      ADD|    1.64810377648E12|1.6926336E12|287553|\n",
      "|  1|1.641711532983E12|{1, 1, 1, 2, 婚紗攝影...|   DELETE|    1.64810377648E12|1.6926336E12|287553|\n",
      "|  1|1.641711532983E12|{1, 1, 1, 2, 婚紗攝影...|      ADD|    1.64810377648E12|1.6926336E12|287553|\n",
      "|  1|1.641711532983E12|{1, 1, 1, 3, 婚禮當日...|   DELETE|    1.64810377648E12|1.6926336E12|287553|\n",
      "+---+-----------------+------------------------+---------+--------------------+------------+------+\n",
      "only showing top 5 rows\n",
      "\n"
     ]
    }
   ],
   "source": [
    "df_event_store_budget_lower_range.show(5)"
   ]
  },
  {
   "cell_type": "code",
   "execution_count": null,
   "metadata": {},
   "outputs": [],
   "source": []
  }
 ],
 "metadata": {
  "interpreter": {
   "hash": "573f8c4297b1e807d4e4d51bc4704711e08f3eef39a212b98b763079568da1b1"
  },
  "kernelspec": {
   "display_name": "Python 3.8.12 64-bit",
   "language": "python",
   "name": "python3"
  },
  "language_info": {
   "codemirror_mode": {
    "name": "ipython",
    "version": 3
   },
   "file_extension": ".py",
   "mimetype": "text/x-python",
   "name": "python",
   "nbconvert_exporter": "python",
   "pygments_lexer": "ipython3",
   "version": "3.8.12"
  },
  "orig_nbformat": 4
 },
 "nbformat": 4,
 "nbformat_minor": 2
}
